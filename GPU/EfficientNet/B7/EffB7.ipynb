{
 "cells": [
  {
   "cell_type": "markdown",
   "id": "974111cc-5bc4-4693-b6eb-b9d03f137d65",
   "metadata": {
    "collapsed": false
   },
   "source": [
    "## Import Toolkit"
   ]
  },
  {
   "cell_type": "code",
   "execution_count": null,
   "id": "ca49c2a7-232a-4b9b-8123-053225f3f377",
   "metadata": {
    "collapsed": false,
    "execution": {
     "iopub.execute_input": "2023-09-14T13:07:33.357043Z",
     "iopub.status.busy": "2023-09-14T13:07:33.356389Z",
     "iopub.status.idle": "2023-09-14T13:07:37.428979Z",
     "shell.execute_reply": "2023-09-14T13:07:37.427873Z",
     "shell.execute_reply.started": "2023-09-14T13:07:33.356995Z"
    }
   },
   "outputs": [],
   "source": [
    "#OS libs\n",
    "import os\n",
    "import shutil\n",
    "import itertools\n",
    "import pathlib\n",
    "from PIL import Image\n",
    "import json\n",
    "\n",
    "#Data handling tools\n",
    "import cv2\n",
    "import matplotlib.pyplot as plt\n",
    "import numpy as np\n",
    "import pandas as pd\n",
    "import seaborn as sns\n",
    "sns.set_style('whitegrid')\n",
    "from sklearn.model_selection import train_test_split\n",
    "from sklearn.metrics import confusion_matrix , classification_report\n",
    "\n",
    "#Deep learning libs\n",
    "import tensorflow as tf\n",
    "from tensorflow import keras\n",
    "from tensorflow.keras.models import Sequential\n",
    "from tensorflow.keras.layers import Conv2D , MaxPooling2D , Flatten , Activation , Dense , Dropout , BatchNormalization\n",
    "from tensorflow.keras.preprocessing.image import ImageDataGenerator\n",
    "from tensorflow.keras.optimizers import Adam , Adamax\n",
    "from tensorflow.keras import regularizers\n",
    "\n",
    "#Warningds\n",
    "import warnings\n",
    "warnings.filterwarnings('ignore')"
   ]
  },
  {
   "cell_type": "code",
   "execution_count": null,
   "id": "a74d6e42-4ab8-4a63-9038-527a95ee0747",
   "metadata": {
    "collapsed": false,
    "execution": {
     "iopub.execute_input": "2023-09-14T13:07:37.432206Z",
     "iopub.status.busy": "2023-09-14T13:07:37.431434Z",
     "iopub.status.idle": "2023-09-14T13:07:37.468775Z",
     "shell.execute_reply": "2023-09-14T13:07:37.467851Z",
     "shell.execute_reply.started": "2023-09-14T13:07:37.432171Z"
    }
   },
   "outputs": [],
   "source": [
    "train_data_path = '../../../Dataset/Training'\n",
    "\n",
    "filepaths =[]\n",
    "labels = []\n",
    "\n",
    "folds = os.listdir(train_data_path)\n",
    "\n",
    "for fold in folds:\n",
    "    f_path = os.path.join(train_data_path , fold)\n",
    "    filelists = os.listdir(f_path)\n",
    "    \n",
    "    for file in filelists:\n",
    "        filepaths.append(os.path.join(f_path , file))\n",
    "        labels.append(fold)\n",
    "        \n",
    "#Concat data paths with labels\n",
    "Fseries = pd.Series(filepaths , name = 'filepaths')\n",
    "Lseries = pd.Series(labels , name = 'label')\n",
    "train_df = pd.concat([Fseries , Lseries] , axis = 1)"
   ]
  },
  {
   "cell_type": "code",
   "execution_count": null,
   "id": "5cb04785-b5fb-4fd8-b5dd-90c3f85bd33a",
   "metadata": {
    "collapsed": false,
    "execution": {
     "iopub.execute_input": "2023-09-14T13:07:37.491539Z",
     "iopub.status.busy": "2023-09-14T13:07:37.491053Z",
     "iopub.status.idle": "2023-09-14T13:07:37.507198Z",
     "shell.execute_reply": "2023-09-14T13:07:37.506151Z",
     "shell.execute_reply.started": "2023-09-14T13:07:37.491479Z"
    }
   },
   "outputs": [],
   "source": [
    "test_data_path = '../../../Dataset/Testing'\n",
    "\n",
    "filepaths =[]\n",
    "labels = []\n",
    "\n",
    "folds = os.listdir(test_data_path)\n",
    "\n",
    "for fold in folds:\n",
    "    f_path = os.path.join(test_data_path , fold)\n",
    "    filelists = os.listdir(f_path)\n",
    "    \n",
    "    for file in filelists:\n",
    "        filepaths.append(os.path.join(f_path , file))\n",
    "        labels.append(fold)\n",
    "        \n",
    "#Concat data paths with labels\n",
    "Fseries = pd.Series(filepaths , name = 'filepaths')\n",
    "Lseries = pd.Series(labels , name = 'label')\n",
    "test_df = pd.concat([Fseries , Lseries] , axis = 1)"
   ]
  },
  {
   "cell_type": "markdown",
   "id": "02efec38-d8b9-4b07-9d5c-c0305d9f480d",
   "metadata": {
    "collapsed": false
   },
   "source": [
    "## Split Data into Valid and Test"
   ]
  },
  {
   "cell_type": "code",
   "execution_count": null,
   "id": "d4151386-84dc-4f41-a7d8-32a29d8a6f88",
   "metadata": {
    "collapsed": false,
    "execution": {
     "iopub.execute_input": "2023-09-14T13:07:37.527092Z",
     "iopub.status.busy": "2023-09-14T13:07:37.526673Z",
     "iopub.status.idle": "2023-09-14T13:07:37.534441Z",
     "shell.execute_reply": "2023-09-14T13:07:37.533109Z",
     "shell.execute_reply.started": "2023-09-14T13:07:37.527059Z"
    }
   },
   "outputs": [],
   "source": [
    "valid , test = train_test_split(test_df , train_size = 0.5 , shuffle = True , random_state= 42)"
   ]
  },
  {
   "cell_type": "markdown",
   "id": "afd1a407-b6e2-4b8d-aa35-a5ee6da94fb6",
   "metadata": {
    "collapsed": false
   },
   "source": [
    "## Image Data Generator"
   ]
  },
  {
   "cell_type": "code",
   "execution_count": null,
   "id": "4d565e9d-b414-4671-ae09-db799a739ae0",
   "metadata": {
    "collapsed": false,
    "execution": {
     "iopub.execute_input": "2023-09-14T13:07:37.536739Z",
     "iopub.status.busy": "2023-09-14T13:07:37.536300Z",
     "iopub.status.idle": "2023-09-14T13:07:47.302239Z",
     "shell.execute_reply": "2023-09-14T13:07:47.301259Z",
     "shell.execute_reply.started": "2023-09-14T13:07:37.536701Z"
    }
   },
   "outputs": [],
   "source": [
    "img_size = (224 ,224) # Possible Values are 300x300, 512x512, or 640x640\n",
    "batch_size = 16\n",
    "\n",
    "tr_gen = ImageDataGenerator()\n",
    "ts_gen= ImageDataGenerator()\n",
    "\n",
    "train_gen = tr_gen.flow_from_dataframe(train_df , x_col = 'filepaths' , y_col = 'label' , target_size = img_size ,\n",
    "                                      class_mode = 'categorical' , color_mode = 'rgb' , shuffle = True , batch_size =batch_size)\n",
    "\n",
    "valid_gen = ts_gen.flow_from_dataframe(valid , x_col = 'filepaths' , y_col = 'label' , target_size = img_size , \n",
    "                                       class_mode = 'categorical',color_mode = 'rgb' , shuffle= True, batch_size = batch_size)\n",
    "\n",
    "test_gen = ts_gen.flow_from_dataframe(test , x_col= 'filepaths' , y_col = 'label' , target_size = img_size , \n",
    "                                      class_mode = 'categorical' , color_mode= 'rgb' , shuffle = False , batch_size = batch_size)"
   ]
  },
  {
   "cell_type": "markdown",
   "id": "1a073bf8-860e-4cc8-9950-4743e69bdbcb",
   "metadata": {
    "collapsed": false
   },
   "source": [
    "## sample from train data"
   ]
  },
  {
   "cell_type": "code",
   "execution_count": null,
   "id": "4aecf862-56fa-4b19-8b8d-528fb088ce57",
   "metadata": {
    "collapsed": false,
    "execution": {
     "iopub.execute_input": "2023-09-14T13:07:47.304055Z",
     "iopub.status.busy": "2023-09-14T13:07:47.303703Z",
     "iopub.status.idle": "2023-09-14T13:07:50.532188Z",
     "shell.execute_reply": "2023-09-14T13:07:50.530977Z",
     "shell.execute_reply.started": "2023-09-14T13:07:47.304012Z"
    }
   },
   "outputs": [],
   "source": [
    "gen_dict = train_gen.class_indices\n",
    "classes = list(gen_dict.keys())\n",
    "images , labels = next(train_gen)\n",
    "\n",
    "plt.figure(figsize= (20,20))\n",
    "\n",
    "for i in range(16):\n",
    "    plt.subplot(4,4,i+1)\n",
    "    image = images[i] / 255\n",
    "    plt.imshow(image)\n",
    "    index = np.argmax(labels[i])\n",
    "    class_name = classes[index]\n",
    "    plt.title(class_name , color = 'blue' , fontsize= 12)\n",
    "    plt.axis('off')\n",
    "plt.show();"
   ]
  },
  {
   "cell_type": "markdown",
   "id": "65b56314-1828-472e-ac30-e13121837fcb",
   "metadata": {
    "collapsed": false
   },
   "source": [
    "## Model Structure"
   ]
  },
  {
   "cell_type": "code",
   "execution_count": null,
   "id": "1e7fa64a-28cb-44f6-8d51-e61065a898fe",
   "metadata": {
    "collapsed": false,
    "execution": {
     "iopub.execute_input": "2023-09-14T13:07:50.534026Z",
     "iopub.status.busy": "2023-09-14T13:07:50.533557Z",
     "iopub.status.idle": "2023-09-14T13:07:57.425037Z",
     "shell.execute_reply": "2023-09-14T13:07:57.424043Z",
     "shell.execute_reply.started": "2023-09-14T13:07:50.533988Z"
    }
   },
   "outputs": [],
   "source": [
    "img_shape = (img_size[0] , img_size[1] , 3)\n",
    "num_class = len(classes)\n",
    "\n",
    "base_model = tf.keras.applications.efficientnet.EfficientNetB7(include_top = False , weights = 'imagenet' ,\n",
    "                                                               input_shape = img_shape, pooling= 'max')\n",
    "model = Sequential([\n",
    "    base_model,\n",
    "    BatchNormalization(axis= -1 , momentum= 0.99 , epsilon= 0.001),\n",
    "    Dense(256, kernel_regularizer = regularizers.l2(l= 0.016) , activity_regularizer = regularizers.l1(0.006),\n",
    "         bias_regularizer= regularizers.l1(0.006) , activation = 'relu'),\n",
    "    Dropout(rate= 0.4 , seed = 75),\n",
    "    Dense(num_class , activation = 'softmax')\n",
    "])\n",
    "\n",
    "model.compile(Adamax(learning_rate = 0.001) , loss = 'categorical_crossentropy', metrics = ['accuracy'])\n",
    "model.summary()"
   ]
  },
  {
   "cell_type": "code",
   "execution_count": null,
   "metadata": {},
   "outputs": [],
   "source": [
    "import sys\n",
    "\n",
    "# Save model summary to a text file\n",
    "with open('model_summary.txt', 'w') as f:\n",
    "    # Redirect stdout to the text file\n",
    "    sys.stdout = f\n",
    "    # Print the model summary\n",
    "    model.summary()\n",
    "    # Reset stdout to the console\n",
    "    sys.stdout = sys.__stdout__\n",
    "\n",
    "print(\"Model summary saved as 'model_summary.txt'\")\n"
   ]
  },
  {
   "cell_type": "markdown",
   "id": "49aea997-5570-40ac-8bd7-ff62d25823fa",
   "metadata": {
    "collapsed": false
   },
   "source": [
    "## Iterate"
   ]
  },
  {
   "cell_type": "code",
   "execution_count": null,
   "id": "043a7e6a-cbcb-43c3-a028-d639c121c566",
   "metadata": {
    "collapsed": false,
    "execution": {
     "iopub.execute_input": "2023-09-14T13:07:57.427564Z",
     "iopub.status.busy": "2023-09-14T13:07:57.426816Z",
     "iopub.status.idle": "2023-09-14T13:24:53.194764Z",
     "shell.execute_reply": "2023-09-14T13:24:53.193489Z",
     "shell.execute_reply.started": "2023-09-14T13:07:57.427511Z"
    }
   },
   "outputs": [],
   "source": [
    "Epochs = 10\n",
    "\n",
    "history = model.fit(x= train_gen , epochs = Epochs , verbose = 1 , validation_data = valid_gen ,validation_steps = None , shuffle = False)"
   ]
  },
  {
   "cell_type": "markdown",
   "metadata": {},
   "source": [
    "#### Save the Model"
   ]
  },
  {
   "cell_type": "code",
   "execution_count": null,
   "metadata": {},
   "outputs": [],
   "source": [
    "weights = model.get_weights()\n",
    "np.save(\"EffB7_weights.npy\", weights)"
   ]
  },
  {
   "cell_type": "markdown",
   "id": "63f0eaef-e15b-49d0-9d9f-e47fa286ee43",
   "metadata": {
    "collapsed": false
   },
   "source": [
    "## Model Performance"
   ]
  },
  {
   "cell_type": "code",
   "execution_count": null,
   "id": "a5b21bf8-4037-45e0-920b-ff5c76e78c6b",
   "metadata": {
    "collapsed": false,
    "execution": {
     "iopub.execute_input": "2023-09-14T13:24:53.197689Z",
     "iopub.status.busy": "2023-09-14T13:24:53.196595Z",
     "iopub.status.idle": "2023-09-14T13:24:54.003380Z",
     "shell.execute_reply": "2023-09-14T13:24:54.002487Z",
     "shell.execute_reply.started": "2023-09-14T13:24:53.197648Z"
    }
   },
   "outputs": [],
   "source": [
    "train_acc = history.history['accuracy']\n",
    "train_loss = history.history['loss']\n",
    "\n",
    "val_acc = history.history['val_accuracy']\n",
    "val_loss = history.history['val_loss']\n",
    "\n",
    "index_loss = np.argmin(val_loss)\n",
    "val_lowest = val_loss[index_loss]\n",
    "\n",
    "index_acc = np.argmax(val_acc)\n",
    "val_highest = val_acc[index_acc]\n",
    "\n",
    "Epochs = [i+1 for i in range(len(train_acc))]\n",
    "\n",
    "loss_label = f'Best epochs = {str(index_loss +1)}'\n",
    "acc_label = f'Best epochs = {str(index_acc + 1)}'\n",
    "\n",
    "#Training history\n",
    "\n",
    "plt.figure(figsize= (20,8))\n",
    "plt.style.use('fivethirtyeight')\n",
    "\n",
    "plt.subplot(1,2,1)\n",
    "plt.plot(Epochs , train_loss , 'r' , label = 'Training Loss')\n",
    "plt.plot(Epochs , val_loss , 'g' , label = 'Validation Loss')\n",
    "plt.scatter(index_loss + 1 , val_lowest , s = 150 , c = 'blue',label = loss_label)\n",
    "plt.title('Training and Validation Loss')\n",
    "plt.xlabel('Epochs')\n",
    "plt.ylabel('Loss')\n",
    "plt.legend()\n",
    "\n",
    "plt.subplot(1,2,2)\n",
    "plt.plot(Epochs , train_acc , 'r' , label = 'Training Accuracy')\n",
    "plt.plot(Epochs , val_acc , 'g' , label = 'Validation Accuracy')\n",
    "plt.scatter(index_acc + 1 , val_highest , s = 150 , c = 'blue',label = acc_label)\n",
    "plt.title('Training and Validation Accuracy')\n",
    "plt.xlabel('Epochs')\n",
    "plt.ylabel('Accuracy')\n",
    "plt.legend()\n",
    "plt.tight_layout()\n",
    "plt.savefig('training_validation_plots.png')\n",
    "plt.show()"
   ]
  },
  {
   "cell_type": "markdown",
   "id": "582b5788-c904-4de8-97ac-5403134ff675",
   "metadata": {
    "collapsed": false
   },
   "source": [
    "## Model Evaluation"
   ]
  },
  {
   "cell_type": "code",
   "execution_count": null,
   "id": "6f7ec2c3-d5ca-4ba6-b7cb-254b16be735f",
   "metadata": {
    "collapsed": false,
    "execution": {
     "iopub.execute_input": "2023-09-14T13:24:54.005977Z",
     "iopub.status.busy": "2023-09-14T13:24:54.004929Z",
     "iopub.status.idle": "2023-09-14T13:24:57.482582Z",
     "shell.execute_reply": "2023-09-14T13:24:57.481594Z",
     "shell.execute_reply.started": "2023-09-14T13:24:54.005940Z"
    }
   },
   "outputs": [],
   "source": [
    "train_score = model.evaluate(train_gen , steps =16 , verbose = 1)\n",
    "valid_score = model.evaluate(valid_gen , steps = 16 , verbose = 1)\n",
    "test_score = model.evaluate(test_gen , steps = 16 , verbose = 1)\n",
    "\n",
    "print(\"Train Loss: \", train_score[0])\n",
    "print(\"Train Accuracy: \", train_score[1])\n",
    "print('-' * 20)\n",
    "print(\"Validation Loss: \", valid_score[0])\n",
    "print(\"Validation Accuracy: \", valid_score[1])\n",
    "print('-' * 20)\n",
    "print(\"Test Loss: \", test_score[0])\n",
    "print(\"Test Accuracy: \", test_score[1])"
   ]
  },
  {
   "cell_type": "code",
   "execution_count": null,
   "metadata": {},
   "outputs": [],
   "source": [
    "with open('model_scores.txt', 'w') as file:\n",
    "    file.write(\"Train Loss: {}\\n\".format(train_score[0]))\n",
    "    file.write(\"Train Accuracy: {}\\n\".format(train_score[1]))\n",
    "    file.write('-' * 20 + '\\n')\n",
    "    file.write(\"Validation Loss: {}\\n\".format(valid_score[0]))\n",
    "    file.write(\"Validation Accuracy: {}\\n\".format(valid_score[1]))\n",
    "    file.write('-' * 20 + '\\n')\n",
    "    file.write(\"Test Loss: {}\\n\".format(test_score[0]))\n",
    "    file.write(\"Test Accuracy: {}\\n\".format(test_score[1]))\n",
    "\n",
    "print(\"Scores saved successfully.\")"
   ]
  },
  {
   "cell_type": "markdown",
   "id": "8a0a24c8-0f08-4397-94e5-22ca1534d8a5",
   "metadata": {
    "collapsed": false
   },
   "source": [
    "## Model Prediction"
   ]
  },
  {
   "cell_type": "markdown",
   "id": "02478742-dd37-436f-af6d-c812504dc25a",
   "metadata": {
    "collapsed": false
   },
   "source": [
    "## Confusion Matrix and Classification Report"
   ]
  },
  {
   "cell_type": "code",
   "execution_count": null,
   "id": "f6fa70e2-4dec-4183-9a55-400d0d4faf6e",
   "metadata": {
    "collapsed": false,
    "execution": {
     "iopub.execute_input": "2023-09-14T13:24:57.484783Z",
     "iopub.status.busy": "2023-09-14T13:24:57.484116Z",
     "iopub.status.idle": "2023-09-14T13:25:02.531069Z",
     "shell.execute_reply": "2023-09-14T13:25:02.529989Z",
     "shell.execute_reply.started": "2023-09-14T13:24:57.484747Z"
    }
   },
   "outputs": [],
   "source": [
    "preds = model.predict_generator(test_gen)\n",
    "\n",
    "y_pred = np.argmax(preds , axis = 1)"
   ]
  },
  {
   "cell_type": "code",
   "execution_count": null,
   "id": "72b90506-78a1-4fc8-8ffb-547305013a21",
   "metadata": {
    "collapsed": false,
    "execution": {
     "iopub.execute_input": "2023-09-14T13:25:02.535321Z",
     "iopub.status.busy": "2023-09-14T13:25:02.535026Z",
     "iopub.status.idle": "2023-09-14T13:25:03.040679Z",
     "shell.execute_reply": "2023-09-14T13:25:03.039729Z",
     "shell.execute_reply.started": "2023-09-14T13:25:02.535296Z"
    }
   },
   "outputs": [],
   "source": [
    "g_dict = test_gen.class_indices\n",
    "classes = list(g_dict.keys())\n",
    "\n",
    "# Confusion matrix\n",
    "cm = confusion_matrix(test_gen.classes, y_pred)\n",
    "\n",
    "plt.figure(figsize= (10, 10))\n",
    "plt.imshow(cm, interpolation= 'nearest', cmap= plt.cm.Blues)\n",
    "plt.title('Confusion Matrix')\n",
    "plt.colorbar()\n",
    "\n",
    "tick_marks = np.arange(len(classes))\n",
    "plt.xticks(tick_marks, classes, rotation= 45)\n",
    "plt.yticks(tick_marks, classes)\n",
    "\n",
    "\n",
    "thresh = cm.max() / 2.\n",
    "for i, j in itertools.product(range(cm.shape[0]), range(cm.shape[1])):\n",
    "    plt.text(j, i, cm[i, j], horizontalalignment= 'center', color= 'white' if cm[i, j] > thresh else 'black')\n",
    "\n",
    "plt.tight_layout()\n",
    "plt.ylabel('True Label')\n",
    "plt.xlabel('Predicted Label')\n",
    "plt.savefig('Confusion_Matrix.png')\n",
    "plt.show()"
   ]
  },
  {
   "cell_type": "code",
   "execution_count": null,
   "id": "f1e4d24d-78f4-4ced-ad9b-e443364113e6",
   "metadata": {
    "collapsed": false,
    "execution": {
     "iopub.execute_input": "2023-09-14T13:25:03.042688Z",
     "iopub.status.busy": "2023-09-14T13:25:03.042289Z",
     "iopub.status.idle": "2023-09-14T13:25:03.060203Z",
     "shell.execute_reply": "2023-09-14T13:25:03.059275Z",
     "shell.execute_reply.started": "2023-09-14T13:25:03.042652Z"
    }
   },
   "outputs": [],
   "source": [
    "#Classification Report\n",
    "print(classification_report(test_gen.classes, y_pred , target_names= classes ))\n",
    "\n",
    "# Save the classification report to json \n",
    "report = classification_report(test_gen.classes, y_pred , target_names= classes , output_dict= True)\n",
    "report_df = pd.DataFrame(report).transpose()\n",
    "report_df.to_json('classification_report.json')"
   ]
  },
  {
   "cell_type": "code",
   "execution_count": null,
   "metadata": {},
   "outputs": [],
   "source": [
    "precision = report_df['precision']\n",
    "recall = report_df['recall']\n",
    "f1_score = report_df['f1-score']\n",
    "classes = report_df.index\n",
    "\n",
    "# Calculate TPR and FPR for each class\n",
    "tpr = recall\n",
    "fpr = 1 - precision\n",
    "\n",
    "# Save TPR and FPR to a DataFrame\n",
    "tpr_fpr_df = pd.DataFrame({'TPR': tpr, 'FPR': fpr}, index=classes)\n",
    "\n",
    "\n",
    "tpr_fpr_json = tpr_fpr_df.to_json(orient='index')\n",
    "print(tpr_fpr_df)\n",
    "# Write JSON to file\n",
    "with open('tpr_fpr.json', 'w') as f:\n",
    "    json.dump(tpr_fpr_json, f)\n",
    "\n",
    "print(\"TPR and FPR saved as JSON.\")"
   ]
  },
  {
   "cell_type": "code",
   "execution_count": null,
   "metadata": {},
   "outputs": [],
   "source": [
    "import numpy as np\n",
    "import matplotlib.pyplot as plt\n",
    "from sklearn.metrics import precision_recall_curve\n",
    "from sklearn.preprocessing import label_binarize\n",
    "\n",
    "# Assuming you have predictions (preds) and true labels (y_true) for your test set\n",
    "num_classes = 4\n",
    "# Get true labels from test_gen\n",
    "y_true = np.array(test_gen.classes)\n",
    "\n",
    "# Binarize the predicted probabilities or scores\n",
    "y_pred_binarized = label_binarize(y_pred, classes=range(num_classes))\n",
    "\n",
    "# Calculate precision and recall for each class separately\n",
    "precision = dict()\n",
    "recall = dict()\n",
    "for i in range(num_classes):\n",
    "    precision[i], recall[i], _ = precision_recall_curve((y_true == i).astype(int), y_pred_binarized[:, i])\n",
    "    plt.plot(recall[i], precision[i], label='Class {}'.format(i))\n",
    "\n",
    "plt.xlabel('Recall')\n",
    "plt.ylabel('Precision')\n",
    "plt.ylim([0.0, 1.05])\n",
    "plt.xlim([0.0, 1.0])\n",
    "plt.title('Precision-Recall curve')\n",
    "plt.legend(loc=\"lower left\")\n",
    "plt.grid(True)\n",
    "plt.savefig('precision_recall_curve_multiclass.png')\n",
    "plt.show()\n"
   ]
  }
 ],
 "metadata": {
  "kernelspec": {
   "argv": [
    "python",
    "-m",
    "ipykernel_launcher",
    "-f",
    "{connection_file}"
   ],
   "display_name": "Python 3 (ipykernel)",
   "env": null,
   "interrupt_mode": "signal",
   "language": "python",
   "metadata": {
    "debugger": true
   },
   "name": "python3"
  },
  "language_info": {
   "codemirror_mode": {
    "name": "ipython",
    "version": 3
   },
   "file_extension": ".py",
   "mimetype": "text/x-python",
   "name": "python",
   "nbconvert_exporter": "python",
   "pygments_lexer": "ipython3",
   "version": "3.10.13"
  },
  "name": "EffB3.ipynb"
 },
 "nbformat": 4,
 "nbformat_minor": 4
}
